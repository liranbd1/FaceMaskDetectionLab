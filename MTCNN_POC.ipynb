{
  "nbformat": 4,
  "nbformat_minor": 0,
  "metadata": {
    "colab": {
      "name": "MTCNN-POC.ipynb",
      "provenance": [],
      "authorship_tag": "ABX9TyO3wOdRDiUTHS/1zENdDkP/",
      "include_colab_link": true
    },
    "kernelspec": {
      "name": "python3",
      "display_name": "Python 3"
    },
    "language_info": {
      "name": "python"
    }
  },
  "cells": [
    {
      "cell_type": "markdown",
      "metadata": {
        "id": "view-in-github",
        "colab_type": "text"
      },
      "source": [
        "<a href=\"https://colab.research.google.com/github/liranbd1/FaceMaskDetectionLab/blob/ok/MTCNN_POC.ipynb\" target=\"_parent\"><img src=\"https://colab.research.google.com/assets/colab-badge.svg\" alt=\"Open In Colab\"/></a>"
      ]
    },
    {
      "cell_type": "markdown",
      "source": [
        "#Installing Missing API's\n",
        "\n",
        "* facenet-pytroch library for MTCNN"
      ],
      "metadata": {
        "id": "jxQMNuDSq6SO"
      }
    },
    {
      "cell_type": "code",
      "execution_count": null,
      "metadata": {
        "id": "6030OVxFqwjs"
      },
      "outputs": [],
      "source": [
        "!pip install facenet-pytorch"
      ]
    },
    {
      "cell_type": "markdown",
      "source": [
        "#Connecting to GDrive\n",
        "All of the dataset and saving of the models are stored in GDrive"
      ],
      "metadata": {
        "id": "Z1IgWskUrPjj"
      }
    },
    {
      "cell_type": "code",
      "source": [
        "from google.colab import drive\n",
        "drive.mount('/content/gdrive/')"
      ],
      "metadata": {
        "id": "6saC8V7mrPWj"
      },
      "execution_count": null,
      "outputs": []
    },
    {
      "cell_type": "markdown",
      "source": [
        "#Imports"
      ],
      "metadata": {
        "id": "D6GevgL-rcqD"
      }
    },
    {
      "cell_type": "code",
      "source": [
        "import pandas as pd\n",
        "import os\n",
        "from facenet_pytorch.models.mtcnn import MTCNN\n",
        "from PIL import Image\n",
        "import torchvision\n",
        "from torchvision import transforms\n",
        "from IPython.core.display import Math\n",
        "from torch.utils.data import Dataset\n",
        "import torch"
      ],
      "metadata": {
        "id": "r8siPtD3reIU"
      },
      "execution_count": null,
      "outputs": []
    },
    {
      "cell_type": "markdown",
      "source": [
        "#Hyper Params"
      ],
      "metadata": {
        "id": "q3slxk5vrtpz"
      }
    },
    {
      "cell_type": "code",
      "source": [
        "root = \"/content/gdrive/MyDrive/MaskDetection\" # Root folder in GDrive to the data\n",
        "\n",
        "device = 'cude' if torch.cuda.is_available() else 'cpu'\n",
        "\n",
        "images_path = os.path.join(root, 'images')\n",
        "csv_path = os.path.join(root,'train.csv')\n",
        "mtcnn_model = MTCNN(keep_all = True).to(device)"
      ],
      "metadata": {
        "id": "CnYAATIZrwgf"
      },
      "execution_count": null,
      "outputs": []
    },
    {
      "cell_type": "code",
      "source": [
        "def process_df(csv_path):\n",
        "  df = pd.read_csv(csv_path)\n",
        "  df = df.drop(df[(df['classname'] != 'face_other_covering') & (df['classname'] != 'face_no_mask') & (df['classname'] != 'face_with_mask') & (df['classname'] != 'face_with_mask_incorrect')].index) # This section will remove all the rows which their classname is not one of the mentiond here.\n",
        "  df.loc[df['classname'] == 'face_with_mask_incorrect', 'classname'] = 'face_with_mask' # Replace all face_with_mask_incorrect with face_with_mask\n",
        "  df.loc[df['classname'] == 'face_other_covering', 'classname'] = 'face_no_mask' # Replace all face_other_covering with face_with_no_mask\n",
        "  return df"
      ],
      "metadata": {
        "id": "fuFRVt6XspHz"
      },
      "execution_count": null,
      "outputs": []
    },
    {
      "cell_type": "markdown",
      "source": [
        "#Intersection over union util\n",
        "\n",
        "Give two bounding boxes we check to see how much of they intersect each other."
      ],
      "metadata": {
        "id": "CiScvWk5th9o"
      }
    },
    {
      "cell_type": "code",
      "source": [
        "def bb_intersection_over_union(boxA, boxB):\n",
        "    # determine the (x, y)-coordinates of the intersection rectangle\n",
        "    xA = max(boxA[0], boxB[0])\n",
        "    yA = max(boxA[1], boxB[1])\n",
        "    xB = min(boxA[2], boxB[2])\n",
        "    yB = min(boxA[3], boxB[3])\n",
        "\n",
        "    # compute the area of intersection rectangle\n",
        "    interArea = abs(max((xB - xA, 0)) * max((yB - yA), 0))\n",
        "    if interArea == 0:\n",
        "        return 0\n",
        "    # compute the area of both the prediction and ground-truth\n",
        "    # rectangles\n",
        "    boxAArea = abs((boxA[2] - boxA[0]) * (boxA[3] - boxA[1]))\n",
        "    boxBArea = abs((boxB[2] - boxB[0]) * (boxB[3] - boxB[1]))\n",
        "\n",
        "    # compute the intersection over union by taking the intersection\n",
        "    # area and dividing it by the sum of prediction + ground-truth\n",
        "    # areas - the interesection area\n",
        "    iou = interArea / float(boxAArea + boxBArea - interArea)\n",
        "\n",
        "    # return the intersection over union value\n",
        "    return iou"
      ],
      "metadata": {
        "id": "q0xytA4gtdvo"
      },
      "execution_count": null,
      "outputs": []
    },
    {
      "cell_type": "markdown",
      "source": [
        "# Validate sample util \n",
        "Making sure we don't get any uneeded data due to problems with the dataset"
      ],
      "metadata": {
        "id": "lLUgbRiDtxbX"
      }
    },
    {
      "cell_type": "code",
      "source": [
        "def validate_sample(sample_list):\n",
        "  cleaned = list(filter(lambda c: c[1] != -1, sample_list))\n",
        "  filtered=set([match[1] for match in cleaned])\n",
        "  \n",
        "  if(len(filtered) != len(cleaned)):\n",
        "    # print('Error' + '^^'*10)\n",
        "    return False\n",
        "\n",
        "  return True"
      ],
      "metadata": {
        "id": "GmpeB3LStgGp"
      },
      "execution_count": null,
      "outputs": []
    },
    {
      "cell_type": "code",
      "source": [
        "img_dataframe = process_df(csv_path)"
      ],
      "metadata": {
        "id": "FPbUcFZntGYc"
      },
      "execution_count": null,
      "outputs": []
    },
    {
      "cell_type": "markdown",
      "source": [
        "# Gathering data on the MTCNN ability to detect faces.\n"
      ],
      "metadata": {
        "id": "rv81KI1atUXU"
      }
    },
    {
      "cell_type": "code",
      "source": [
        "unique_img_names = image_dataframe['name'].unique()\n",
        "\n",
        "match_sample_idx = []\n",
        "bad_img = []\n",
        "idx_found = [] #This list can be initialized one and just add to it since the idx that is saved is of the img row, so it will be unique for each row.\n",
        "\n",
        "'''\n",
        "For each bounding box that the MTCNN finds, check if there is a match of some \n",
        "correlation with the dataset bounding boxes (bbox and sample_box respectivly)\n",
        "\n",
        "Every match we get is True Positive.\n",
        "False Negative is the differance between the total rows and TP.\n",
        "If we got a bbox but didn't find a match of a sample_box we consider it as \n",
        "MTCNN found something that is not there meaning False Positive and it will be \n",
        "annotated with max_idx = -1 and max_iou = 0\n",
        "'''\n",
        "\n",
        "for img_name in unique_img_names:\n",
        "  tmp_list = []\n",
        "  img = Image.open(os.path.join(image_path, img_name))\n",
        "  bboxes, probs = mtcnn.detect(img)\n",
        "  subset = df.loc[df['name'] == img_name]\n",
        "\n",
        "  if bboxes is not None:\n",
        "    for bidx, mtcnn_data in enumerate(zip(bboxes,probs)):\n",
        "      bbox = mtcnn_data[0]\n",
        "      prob = mtcnn_data[1]\n",
        "      max_iou = 0\n",
        "      max_idx = -1 \n",
        "\n",
        "      for idx, sample in subset.iterrows():\n",
        "        # For some reason the dataset defined X as a set of two cordinates and Y as another so X1 X2 is two cordinates for the same point in 2D space\n",
        "        sample_bbox = [sample['x1'], sample['x2'], sample['y1'], sample['y2']]\n",
        "        iou = bb_intersection_over_union(sample_bbox, bbox)\n",
        "        \n",
        "        if iou>max_iou and idx not in idx_found:\n",
        "          max_iou = iou\n",
        "          max_idx = idx\n",
        "\n",
        "      idx_found.append(max_idx)\n",
        "      tmp_list.append([img_name, max_idx, max_iou, prob])\n",
        "\n",
        "  if len(tmp_list) != 0:\n",
        "    if not validate_sample(tmp_list):\n",
        "      bad_img.append(img_name)\n",
        "    if len(tmp_list[0]) != 0:\n",
        "      match_sample_idx.append(tmp_list)\n"
      ],
      "metadata": {
        "id": "Ca2suZ-VtL8T"
      },
      "execution_count": null,
      "outputs": []
    },
    {
      "cell_type": "code",
      "source": [
        "TP = sum([1 for match in match_sample_idx if match[1]!= -1])\n",
        "FN = len(image_dataframe) - TP\n",
        "FP = len(match_sample_idx) - TP"
      ],
      "metadata": {
        "id": "t9OPIMkzvvUY"
      },
      "execution_count": null,
      "outputs": []
    },
    {
      "cell_type": "markdown",
      "source": [
        "# Code to create the graphs we want\n"
      ],
      "metadata": {
        "id": "hv_0mmW3xQoB"
      }
    },
    {
      "cell_type": "code",
      "source": [
        ""
      ],
      "metadata": {
        "id": "SfAYM8nYxU5C"
      },
      "execution_count": null,
      "outputs": []
    },
    {
      "cell_type": "markdown",
      "source": [
        "# Here is an example to how save object to GDrive\n",
        "\n",
        "I used this to save matplotlib figures, all the important part is to make sure the path you want exist and if not create it (lines 3 to 8) \n",
        "\n",
        "Then we can use any built in method to save objects in python (In here you can see how matplotlib is saving the plots as png images"
      ],
      "metadata": {
        "id": "44iDjcEN7_9i"
      }
    },
    {
      "cell_type": "code",
      "source": [
        "def plot_report(x_axis, title, y_axis):\n",
        "  file_name = title\n",
        "  if not os.path.exists('./gdrive/MyDrive/Deep_Learning_HW2/plots'):\n",
        "    try: # Since we can throw an error here we prefer to wrap it in try and catch and raise the error back to not continue the run\n",
        "      !mkdir './gdrive/MyDrive/Deep_Learning_HW2/plots'\n",
        "    except OSError as error:\n",
        "      print(error)\n",
        "      raise error \n",
        "\n",
        "  fig = plt.figure()\n",
        "  plt.plot(x_axis, y_axis, 'b')\n",
        "  plt.title(title)\n",
        "  file_path = os.path.join('./gdrive/MyDrive/Deep_Learning_HW2/plots', f'{file_name}')\n",
        "  fig.savefig(file_path, format='png')"
      ],
      "metadata": {
        "id": "dJ-6Enb-8FQ4"
      },
      "execution_count": null,
      "outputs": []
    },
    {
      "cell_type": "markdown",
      "source": [
        "# Saving the model in some path"
      ],
      "metadata": {
        "id": "ns50D05cBcZF"
      }
    },
    {
      "cell_type": "code",
      "source": [
        "torch.save(model.state_dict(), path)"
      ],
      "metadata": {
        "id": "gHQl-Ys28HXb"
      },
      "execution_count": null,
      "outputs": []
    }
  ]
}